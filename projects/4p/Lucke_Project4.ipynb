{
 "cells": [
  {
   "cell_type": "code",
   "execution_count": 382,
   "id": "39f501b1",
   "metadata": {},
   "outputs": [],
   "source": [
    "import sympy as sp\n",
    "import numpy as np\n",
    "from sympy import cos, sin"
   ]
  },
  {
   "cell_type": "code",
   "execution_count": 383,
   "id": "64b23440",
   "metadata": {},
   "outputs": [],
   "source": [
    "m, M , n1, n2, n3, n1m, n10, delta, cn, m1m, delta, n0, q, c,d  = sp.symbols(r'm M n_1 n_2 n_3 n_1_M n_1_0 delta C_n m_1_M delta n_0 q c_s d')\n",
    "alfa = sp.Symbol('alpha',real=True)\n",
    "Q, S, iyy = sp.symbols('Q_\\infty S_{ref} I_{yy}')\n",
    "cm, gamma, P = sp.symbols('C_m gamma P_s_\\infty')"
   ]
  },
  {
   "cell_type": "code",
   "execution_count": 384,
   "id": "271a53b7",
   "metadata": {},
   "outputs": [],
   "source": [
    "def diffCn(aval, Mval):\n",
    "    ee = (n3 * abs(alfa) + n2*abs(alfa**2) + (n1m * M + n10)*abs(alfa)) + n0*delta\n",
    "    signAlfa = sp.Add(np.sign(aval))\n",
    "    body = signAlfa * ee\n",
    "    display(body)\n",
    "    dcnda = body.diff(alfa)\n",
    "    dcndq = body.diff(q)\n",
    "    dcnddelta = body.diff(delta)\n",
    "    display(dcnddelta)\n",
    "    return dcnda, dcndq, dcnddelta"
   ]
  },
  {
   "cell_type": "code",
   "execution_count": 385,
   "id": "c0f87be2",
   "metadata": {},
   "outputs": [],
   "source": [
    "Qexpr = 1/2 * gamma * P * M**2\n",
    "cnexpr = (n3 * abs(alfa) + n2*abs(alfa**2) + (n1m * M + n10)*abs(alfa)) + n0*delta\n",
    "f1 = cos(alfa)/(m*c*M) * (Q*S*cnexpr) + q\n",
    "f2 = 1/iyy * (Q * S * d * cm)"
   ]
  },
  {
   "cell_type": "code",
   "execution_count": 386,
   "id": "041d37d1",
   "metadata": {},
   "outputs": [],
   "source": [
    "class Params:\n",
    "    def __init__(self):\n",
    "        self.n0 = -0.034\n",
    "        self.n10 = -0.3392\n",
    "        self.n1m = 0.0565333\n",
    "        self.n2 = -0.0094457\n",
    "        self.n3 = 0.000103\n",
    "        self.m0 = -0.206\n",
    "        self.m10 = -0.357\n",
    "        self.m1m = 0.136\n",
    "        self.m2 = -0.019546\n",
    "        self.m3 = 0.000215"
   ]
  },
  {
   "cell_type": "code",
   "execution_count": 357,
   "id": "6d3be28a",
   "metadata": {},
   "outputs": [
    {
     "name": "stdout",
     "output_type": "stream",
     "text": [
      "Once deleted, variables cannot be recovered. Proceed (y/[n])? y\n"
     ]
    },
    {
     "ename": "NameError",
     "evalue": "name 'alfa' is not defined",
     "output_type": "error",
     "traceback": [
      "\u001b[1;31m---------------------------------------------------------------------------\u001b[0m",
      "\u001b[1;31mNameError\u001b[0m                                 Traceback (most recent call last)",
      "Input \u001b[1;32mIn [357]\u001b[0m, in \u001b[0;36m<cell line: 5>\u001b[1;34m()\u001b[0m\n\u001b[0;32m      2\u001b[0m \u001b[38;5;28;01mdef\u001b[39;00m \u001b[38;5;21mcalcCn\u001b[39m(a, q, M):\n\u001b[0;32m      3\u001b[0m     display(alfa)\n\u001b[1;32m----> 5\u001b[0m \u001b[43mcalcCn\u001b[49m\u001b[43m(\u001b[49m\u001b[38;5;241;43m1\u001b[39;49m\u001b[43m,\u001b[49m\u001b[38;5;241;43m1\u001b[39;49m\u001b[43m,\u001b[49m\u001b[38;5;241;43m1\u001b[39;49m\u001b[43m)\u001b[49m\n",
      "Input \u001b[1;32mIn [357]\u001b[0m, in \u001b[0;36mcalcCn\u001b[1;34m(a, q, M)\u001b[0m\n\u001b[0;32m      2\u001b[0m \u001b[38;5;28;01mdef\u001b[39;00m \u001b[38;5;21mcalcCn\u001b[39m(a, q, M):\n\u001b[1;32m----> 3\u001b[0m     display(\u001b[43malfa\u001b[49m)\n",
      "\u001b[1;31mNameError\u001b[0m: name 'alfa' is not defined"
     ]
    }
   ],
   "source": [
    "def calcCn(a, q, M, parameterObject):\n",
    "    p = parameterObject\n",
    "    np.sign(a)*(p.n3*abs(a)) \n",
    "    \n",
    "alfabar = 0, machbar = 3, deltabar = 0\n",
    "calcCn()"
   ]
  },
  {
   "cell_type": "code",
   "execution_count": 350,
   "id": "a2c72755",
   "metadata": {},
   "outputs": [
    {
     "data": {
      "text/latex": [
       "$\\displaystyle -0.0105336410022265$"
      ],
      "text/plain": [
       "-0.0105336410022265"
      ]
     },
     "execution_count": 350,
     "metadata": {},
     "output_type": "execute_result"
    }
   ],
   "source": [
    "machbar = 3\n",
    "alfabar = 3\n",
    "gammaVal = 1.4\n",
    "Pstatic = 973.3\n",
    "srefVal = 0.44\n",
    "massval = 13.98\n",
    "qbar = 1/2 * gammaVal * Pstatic * machbar**2\n",
    "cs =  1.0369e3\n",
    "deltabar = 0\n",
    "\n",
    "f1d = f1.diff(alfa)\n",
    "\n",
    "f1d.subs({Q: qbar, S:srefVal, M:machbar, n10:-0.3392, n1m:0.0565333, n2:-0.0094457,\n",
    "                                          n3: 0.000103, n0:-0.034, c:cs, m:massval, alfa:np.radians(alfabar), delta:deltabar}).evalf()"
   ]
  },
  {
   "cell_type": "code",
   "execution_count": null,
   "id": "526dbcf4",
   "metadata": {},
   "outputs": [],
   "source": [
    "−0.006203974495628"
   ]
  }
 ],
 "metadata": {
  "kernelspec": {
   "display_name": "Python 3 (ipykernel)",
   "language": "python",
   "name": "python3"
  },
  "language_info": {
   "codemirror_mode": {
    "name": "ipython",
    "version": 3
   },
   "file_extension": ".py",
   "mimetype": "text/x-python",
   "name": "python",
   "nbconvert_exporter": "python",
   "pygments_lexer": "ipython3",
   "version": "3.10.4"
  }
 },
 "nbformat": 4,
 "nbformat_minor": 5
}
